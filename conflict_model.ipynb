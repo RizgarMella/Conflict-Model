{
 "cells": [
  {
   "cell_type": "markdown",
   "metadata": {},
   "source": [
    "# Simple Economic Conflict Model\n",
    "\n",
    "This notebook describes a simple, illustrative model for simulating basic economic interactions and conflicts between countries. The code below demonstrates how to build a network of capital cities, produce and exchange resources (like “food”), and introduce conflict by “blocking” nodes.\n",
    "\n",
    "You can use this framework as a starting point for more sophisticated models involving multiple resources, complex trade rules, and dynamic conflict behaviours."
   ]
  },
  {
   "cell_type": "markdown",
   "metadata": {},
   "source": [
    "## Table of Contents\n",
    "\n",
    "1. [Overview](#overview)  \n",
    "2. [Key Steps in the Code](#key-steps-in-the-code)  \n",
    "   1. [Install Packages](#1-install-packages)  \n",
    "   2. [Imports](#2-imports)  \n",
    "   3. [Sample Capital Cities Data](#3-sample-capital-cities-data)  \n",
    "   4. [Distance Function](#4-distance-function)  \n",
    "   5. [Build the Graph](#5-build-the-graph)  \n",
    "   6. [Add Edges by Distance](#6-add-edges-by-distance)  \n",
    "   7. [Simple Resource-Flow Simulation](#7-simple-resource-flow-simulation)  \n",
    "   8. [Demonstration: Run the Simulation](#8-demonstration-run-the-simulation)  \n",
    "   9. [Visualization](#9-visualization)  \n",
    "3. [How the Model Works](#how-the-model-works)  \n",
    "   1. [Nodes](#nodes)  \n",
    "   2. [Edges](#edges)  \n",
    "   3. [Blocked Nodes](#blocked-nodes)  \n",
    "   4. [Simulation Flow](#simulation-flow)  \n",
    "4. [How to Extend the Model](#how-to-extend-the-model)  \n",
    "   1. [Add New Resources](#add-new-resources)  \n",
    "   2. [Refine Production and Trade Logic](#refine-production-and-trade-logic)  \n",
    "   3. [Advanced Conflict Rules](#advanced-conflict-rules)  \n",
    "   4. [Dynamic or Time-Varying Graph Edges](#dynamic-or-time-varying-graph-edges)  \n",
    "5. [Summary](#summary)\n"
   ]
  },
  {
   "cell_type": "markdown",
   "metadata": {
    "id": "overview"
   },
   "source": [
    "## Overview\n",
    "\n",
    "This code uses **NetworkX** to model a network of countries’ capital cities. Each city is a node in the graph and has attributes like geographic position, whether it’s “blocked” by conflict, and a resource dictionary (e.g., containing “food”). Edges between cities represent possible trade routes, determined by physical distance. We run a simple simulation in discrete time steps, where cities:\n",
    "1. Produce a fixed amount of food if they are not blocked.  \n",
    "2. Trade surplus food with neighboring cities that have a deficit.\n",
    "\n",
    "When a city is “blocked,” it neither produces nor trades its resources. After running the simulation for a few turns, we visually plot the network on a world map."
   ]
  },
  {
   "cell_type": "markdown",
   "metadata": {
    "id": "key-steps-in-the-code"
   },
   "source": [
    "## Key Steps in the Code\n",
    "\n",
    "Below is a step-by-step explanation of the code."
   ]
  },
  {
   "cell_type": "markdown",
   "metadata": {
    "id": "1-install-packages"
   },
   "source": [
    "### 1) Install Packages\n",
    "\n",
    "If using Google Colab or a similar environment, you first need to install the required libraries for geospatial analysis and network modeling:\n",
    "\n",
    "- **geopandas**  \n",
    "- **networkx**  \n",
    "- **shapely**  \n",
    "- **geopy**  \n",
    "- **pyproj**  \n"
   ]
  },
  {
   "cell_type": "code",
   "metadata": {},
   "source": [
    "!pip install geopandas networkx shapely geopy pyproj"
   ],
   "execution_count": null,
   "outputs": []
  },
  {
   "cell_type": "markdown",
   "metadata": {
    "id": "2-imports"
   },
   "source": [
    "### 2) Imports\n",
    "\n",
    "We import the following packages:\n",
    "\n",
    "- **pandas** to handle tabular data for capital cities.  \n",
    "- **networkx** to create and manipulate the graph.  \n",
    "- **matplotlib** for plotting.  \n",
    "- **geopandas** and **shapely** for geospatial operations.  \n",
    "- **geopy** for calculating great-circle distances."
   ]
  },
  {
   "cell_type": "code",
   "metadata": {},
   "source": [
    "import pandas as pd\n",
    "import networkx as nx\n",
    "import matplotlib.pyplot as plt\n",
    "import geopandas as gpd\n",
    "\n",
    "from shapely.geometry import Point, LineString\n",
    "from geopy.distance import geodesic"
   ],
   "execution_count": null,
   "outputs": []
  },
  {
   "cell_type": "markdown",
   "metadata": {
    "id": "3-sample-capital-cities-data"
   },
   "source": [
    "### 3) Sample Capital Cities Data\n",
    "\n",
    "A small dataset of countries, their capitals, and lat/lon coordinates."
   ]
  },
  {
   "cell_type": "code",
   "metadata": {},
   "source": [
    "capitals_data = [\n",
    "    {\"Country\": \"France\",  \"Capital\": \"Paris\",    \"Latitude\": 48.8566,   \"Longitude\": 2.3522},\n",
    "    {\"Country\": \"Germany\", \"Capital\": \"Berlin\",   \"Latitude\": 52.5200,   \"Longitude\": 13.4050},\n",
    "    {\"Country\": \"Spain\",   \"Capital\": \"Madrid\",   \"Latitude\": 40.4168,   \"Longitude\": -3.7038},\n",
    "    {\"Country\": \"Italy\",   \"Capital\": \"Rome\",     \"Latitude\": 41.9028,   \"Longitude\": 12.4964},\n",
    "    {\"Country\": \"Egypt\",   \"Capital\": \"Cairo\",    \"Latitude\": 30.0444,   \"Longitude\": 31.2357},\n",
    "    {\"Country\": \"Kenya\",   \"Capital\": \"Nairobi\",  \"Latitude\": -1.286389, \"Longitude\": 36.817223},\n",
    "    {\"Country\": \"Japan\",   \"Capital\": \"Tokyo\",    \"Latitude\": 35.6895,   \"Longitude\": 139.6917},\n",
    "    {\"Country\": \"Brazil\",  \"Capital\": \"Brasília\", \"Latitude\": -15.8267,  \"Longitude\": -47.9218}\n",
    "]\n",
    "\n",
    "capitals_df = pd.DataFrame(capitals_data)\n",
    "capitals_df"
   ],
   "execution_count": null,
   "outputs": []
  },
  {
   "cell_type": "markdown",
   "metadata": {
    "id": "4-distance-function"
   },
   "source": [
    "### 4) Distance Function\n",
    "\n",
    "A helper function that returns the distance in kilometers between two lat/lon points, using **geopy**."
   ]
  },
  {
   "cell_type": "code",
   "metadata": {},
   "source": [
    "def distance_km(lat1, lon1, lat2, lon2):\n",
    "    \"\"\"\n",
    "    Returns the distance in kilometers between two lat/lon pairs.\n",
    "    Uses geopy for great-circle distance.\n",
    "    \"\"\"\n",
    "    return geodesic((lat1, lon1), (lat2, lon2)).kilometers"
   ],
   "execution_count": null,
   "outputs": []
  },
  {
   "cell_type": "markdown",
   "metadata": {
    "id": "5-build-the-graph"
   },
   "source": [
    "### 5) Build the Graph\n",
    "\n",
    "We create a `NetworkX` undirected graph `G`. Each capital city is added as a node with:\n",
    "- **pos**: `(longitude, latitude)`\n",
    "- **country**\n",
    "- **blocked** (initially False)\n",
    "- **resources** (100 units of \"food\")"
   ]
  },
  {
   "cell_type": "code",
   "metadata": {},
   "source": [
    "G = nx.Graph()\n",
    "\n",
    "# Add each capital as a node\n",
    "for idx, row in capitals_df.iterrows():\n",
    "    capital = row[\"Capital\"]\n",
    "    lat = row[\"Latitude\"]\n",
    "    lon = row[\"Longitude\"]\n",
    "    G.add_node(\n",
    "        capital,\n",
    "        pos=(lon, lat),  # (x=lon, y=lat)\n",
    "        country=row[\"Country\"],\n",
    "        blocked=False,\n",
    "        resources={\"food\": 100}\n",
    "    )"
   ],
   "execution_count": null,
   "outputs": []
  },
  {
   "cell_type": "markdown",
   "metadata": {
    "id": "6-add-edges-by-distance"
   },
   "source": [
    "### 6) Add Edges by Distance\n",
    "\n",
    "We'll connect capitals if they are within a certain distance threshold (3,000 km). Each edge has:\n",
    "- **distance**: The geodesic distance in km.\n",
    "- **capacity**: A placeholder integer (10)."
   ]
  },
  {
   "cell_type": "code",
   "metadata": {},
   "source": [
    "DISTANCE_THRESHOLD = 3000\n",
    "\n",
    "all_cities = list(G.nodes())\n",
    "for i in range(len(all_cities)):\n",
    "    for j in range(i+1, len(all_cities)):\n",
    "        cityA = all_cities[i]\n",
    "        cityB = all_cities[j]\n",
    "        (lonA, latA) = G.nodes[cityA][\"pos\"]\n",
    "        (lonB, latB) = G.nodes[cityB][\"pos\"]\n",
    "        \n",
    "        d_km = distance_km(latA, lonA, latB, lonB)\n",
    "        \n",
    "        if d_km <= DISTANCE_THRESHOLD:\n",
    "            G.add_edge(cityA, cityB, distance=d_km, capacity=10)"
   ],
   "execution_count": null,
   "outputs": []
  },
  {
   "cell_type": "markdown",
   "metadata": {
    "id": "7-simple-resource-flow-simulation"
   },
   "source": [
    "### 7) Simple Resource-Flow Simulation\n",
    "\n",
    "This model simulates a very basic production and trade system:\n",
    "1. **Produce food**: Each unblocked city produces a fixed amount of food.\n",
    "2. **Trade food**: Cities with surplus food share it with cities that have a deficit, subject to a threshold and a max trade limit.\n",
    "3. **Blocked cities**: If a city is blocked, it does not produce or trade."
   ]
  },
  {
   "cell_type": "code",
   "metadata": {},
   "source": [
    "def produce_food(G, production_amount=10):\n",
    "    \"\"\"\n",
    "    Each non-blocked city produces a fixed amount of 'food' each turn.\n",
    "    \"\"\"\n",
    "    for city in G.nodes:\n",
    "        if not G.nodes[city][\"blocked\"]:\n",
    "            G.nodes[city][\"resources\"][\"food\"] += production_amount\n",
    "\n",
    "def trade_food(G, trade_threshold=100, max_trade_per_edge=20):\n",
    "    \"\"\"\n",
    "    Simple one-pass trade:\n",
    "    - If a city has more than 'trade_threshold' food, it tries to share\n",
    "      the excess with neighbors that have less than 'trade_threshold'.\n",
    "    - Limited by 'max_trade_per_edge' for demonstration.\n",
    "    - Blocked cities do not send or receive.\n",
    "    \"\"\"\n",
    "    # Record net flow so we don't double-update resources within the same step\n",
    "    food_flows = {city: 0 for city in G.nodes}\n",
    "    \n",
    "    for cityA, cityB in G.edges():\n",
    "        if G.nodes[cityA][\"blocked\"] or G.nodes[cityB][\"blocked\"]:\n",
    "            # If either city is blocked, no trade occurs on this edge\n",
    "            continue\n",
    "        \n",
    "        foodA = G.nodes[cityA][\"resources\"][\"food\"]\n",
    "        foodB = G.nodes[cityB][\"resources\"][\"food\"]\n",
    "        \n",
    "        # City A -> City B\n",
    "        if foodA > trade_threshold and foodB < trade_threshold:\n",
    "            surplusA = foodA - trade_threshold\n",
    "            deficitB = trade_threshold - foodB\n",
    "            flowAB = min(surplusA, deficitB, max_trade_per_edge)\n",
    "            food_flows[cityA] -= flowAB\n",
    "            food_flows[cityB] += flowAB\n",
    "        \n",
    "        # City B -> City A\n",
    "        elif foodB > trade_threshold and foodA < trade_threshold:\n",
    "            surplusB = foodB - trade_threshold\n",
    "            deficitA = trade_threshold - foodA\n",
    "            flowBA = min(surplusB, deficitA, max_trade_per_edge)\n",
    "            food_flows[cityB] -= flowBA\n",
    "            food_flows[cityA] += flowBA\n",
    "    \n",
    "    # Apply the net flows\n",
    "    for city in food_flows:\n",
    "        G.nodes[city][\"resources\"][\"food\"] += food_flows[city]\n",
    "\n",
    "def simulate_economy(G, steps=5):\n",
    "    \"\"\"\n",
    "    Run a simple production & trade simulation for the specified number of steps.\n",
    "    Print out the results each turn.\n",
    "    \"\"\"\n",
    "    for step in range(1, steps+1):\n",
    "        # 1. Production\n",
    "        produce_food(G, production_amount=10)\n",
    "        \n",
    "        # 2. Trade\n",
    "        trade_food(G, trade_threshold=100, max_trade_per_edge=20)\n",
    "        \n",
    "        # Print summary\n",
    "        print(f\"\\nAfter Step {step}:\")\n",
    "        for city in sorted(G.nodes()):\n",
    "            blocked = \" (BLOCKED)\" if G.nodes[city][\"blocked\"] else \"\"\n",
    "            food_amount = G.nodes[city][\"resources\"][\"food\"]\n",
    "            print(f\"  {city}{blocked}: food={food_amount:.1f}\")"
   ],
   "execution_count": null,
   "outputs": []
  },
  {
   "cell_type": "markdown",
   "metadata": {
    "id": "8-demonstration-run-the-simulation"
   },
   "source": [
    "### 8) Demonstration: Run the Simulation\n",
    "\n",
    "We first run a few simulation steps under normal conditions, then block **Berlin** to simulate conflict."
   ]
  },
  {
   "cell_type": "code",
   "metadata": {},
   "source": [
    "print(\"=== Initial Resource Distribution ===\")\n",
    "for city in sorted(G.nodes()):\n",
    "    print(f\"  {city}: {G.nodes[city]['resources']}\")\n",
    "\n",
    "print(\"\\n=== Running Simulation (no conflict) ===\")\n",
    "simulate_economy(G, steps=3)\n",
    "\n",
    "# Now block a city to simulate conflict\n",
    "G.nodes[\"Berlin\"][\"blocked\"] = True\n",
    "print(\"\\n=== Berlin is now BLOCKED ===\")\n",
    "\n",
    "simulate_economy(G, steps=3)"
   ],
   "execution_count": null,
   "outputs": []
  },
  {
   "cell_type": "markdown",
   "metadata": {
    "id": "9-visualization"
   },
   "source": [
    "### 9) Visualization\n",
    "\n",
    "Finally, we visualize the network on a world map, with blocked capitals highlighted in orange."
   ]
  },
  {
   "cell_type": "code",
   "metadata": {},
   "source": [
    "try:\n",
    "    world = gpd.read_file(gpd.datasets.get_path('naturalearth_lowres'))\n",
    "except Exception as e:\n",
    "    print(\"Could not load 'naturalearth_lowres'. Falling back to GeoJSON from GitHub.\")\n",
    "    fallback_url = \"https://raw.githubusercontent.com/nvkelso/natural-earth-vector/master/geojson/ne_110m_admin_0_countries.geojson\"\n",
    "    world = gpd.read_file(fallback_url)\n",
    "\n",
    "capitals_gdf = gpd.GeoDataFrame(\n",
    "    capitals_df,\n",
    "    geometry=[Point(xy) for xy in zip(capitals_df.Longitude, capitals_df.Latitude)],\n",
    "    crs=\"EPSG:4326\"  # WGS84 lat/lon\n",
    ")\n",
    "\n",
    "fig, ax = plt.subplots(figsize=(12, 8))\n",
    "world.plot(ax=ax, color='lightgray', edgecolor='white')\n",
    "\n",
    "# Plot edges\n",
    "for (cityA, cityB) in G.edges():\n",
    "    (lonA, latA) = G.nodes[cityA][\"pos\"]\n",
    "    (lonB, latB) = G.nodes[cityB][\"pos\"]\n",
    "    \n",
    "    line_geom = LineString([(lonA, latA), (lonB, latB)])\n",
    "    gpd.GeoSeries([line_geom], crs=\"EPSG:4326\").plot(\n",
    "        ax=ax,\n",
    "        color=\"blue\",\n",
    "        linewidth=1,\n",
    "        alpha=0.5\n",
    "    )\n",
    "\n",
    "# Plot capitals as red circles; highlight blocked capitals in a different color\n",
    "blocked_cities = [city for city in G.nodes if G.nodes[city][\"blocked\"]]\n",
    "unblocked_cities = [city for city in G.nodes if not G.nodes[city][\"blocked\"]]\n",
    "\n",
    "unblocked_df = capitals_gdf[capitals_gdf[\"Capital\"].isin(unblocked_cities)]\n",
    "blocked_df = capitals_gdf[capitals_gdf[\"Capital\"].isin(blocked_cities)]\n",
    "\n",
    "unblocked_df.plot(ax=ax, color='red', markersize=50, label=\"Unblocked\")\n",
    "blocked_df.plot(ax=ax, color='orange', markersize=100, marker=\"X\", label=\"Blocked\")\n",
    "\n",
    "# Add labels to each city\n",
    "for idx, row in capitals_gdf.iterrows():\n",
    "    plt.text(\n",
    "        x=row.geometry.x + 1,\n",
    "        y=row.geometry.y + 1,\n",
    "        s=row[\"Capital\"],\n",
    "        fontsize=9\n",
    "    )\n",
    "\n",
    "plt.title(\"World Capitals Network (Simple Simulation)\")\n",
    "plt.legend()\n",
    "plt.show()\n",
    "\n",
    "print(\"\\nDone! You have run a simple conflict/economy simulation and visualized the result.\")"
   ],
   "execution_count": null,
   "outputs": []
  },
  {
   "cell_type": "markdown",
   "metadata": {},
   "source": [
    "## How the Model Works\n",
    "\n",
    "### Nodes\n",
    "Each node corresponds to a capital city. Attributes include:\n",
    "- **pos**: `(longitude, latitude)`, used for distance calculations and plotting.\n",
    "- **country**: The country name (e.g., \"France\").\n",
    "- **blocked**: A boolean indicating if the city is blocked due to conflict.\n",
    "- **resources**: A dictionary that holds resource quantities. Currently, only \"food\" is tracked.\n",
    "\n",
    "### Edges\n",
    "Edges represent potential trade routes between cities. An edge is created only if two cities are within a specified `DISTANCE_THRESHOLD` (3,000 km in this example). Each edge has:\n",
    "- **distance**: The great-circle distance between the two cities in kilometers.\n",
    "- **capacity**: A sample \"capacity\" attribute. This can be used to model throughput limits (e.g., how much a route can carry per time step).\n",
    "\n",
    "### Blocked Nodes\n",
    "When a node is **blocked**:\n",
    "- It does not produce food (or other resources).\n",
    "- It does not send or receive any resources via trade.\n",
    "\n",
    "This simulates, for instance, a siege or an interruption in supply lines due to conflict.\n",
    "\n",
    "### Simulation Flow\n",
    "1. **Production**: Each unblocked node produces a certain amount of \"food.\"  \n",
    "2. **Trade**: Surplus food is shared with neighbors that have a deficit, capped by certain limits.  \n",
    "3. **Conflict**: If a node is set to `blocked=True`, it is omitted from production and trade."
   ]
  },
  {
   "cell_type": "markdown",
   "metadata": {},
   "source": [
    "## How to Extend the Model\n",
    "\n",
    "### Add New Resources\n",
    "- Extend the `resources` dictionary to track multiple resources (e.g., `\"oil\"`, `\"gold\"`, etc.).\n",
    "- Modify the `produce_food` function or create additional functions (e.g., `produce_oil`) to handle the production of different resources.\n",
    "- Update the `trade_food` function to handle multiple resources, possibly with separate thresholds and trade caps.\n",
    "\n",
    "### Refine Production and Trade Logic\n",
    "- Make production dependent on city-specific factors (population, technology level, random events, etc.).\n",
    "- Incorporate supply-demand curves or pricing into trade decisions.\n",
    "- Account for transportation costs or time delays along edges.\n",
    "\n",
    "### Advanced Conflict Rules\n",
    "- **Block edges** instead of (or in addition to) nodes. Some routes might be blocked while others remain open.\n",
    "- **Partial capacity reduction**: A city might lose only part of its production capacity or trade capacity.\n",
    "- **Spreading conflict**: Conflict could spread to neighbors based on certain probabilities, or be resolved after a period of time.\n",
    "\n",
    "### Dynamic or Time-Varying Graph Edges\n",
    "- Let edges appear or disappear over time (e.g., roads closed, new trade agreements, infrastructure built).\n",
    "- Implement random shocks or events (storms, diplomatic disputes) that temporarily reduce capacity."
   ]
  },
  {
   "cell_type": "markdown",
   "metadata": {},
   "source": [
    "## Summary\n",
    "\n",
    "This simple economic conflict model is a starting point for exploring how disruptions can affect an interconnected network of cities. It demonstrates:\n",
    "- Creating a geographic network of cities (nodes) with trade routes (edges).\n",
    "- Simulating production and surplus/deficit-based trade.\n",
    "- Handling conflict by blocking cities (removing them from production and trade).\n",
    "- Visualizing the network on a world map for analysis.\n",
    "\n",
    "By extending the model with additional resources, more complex production and trade rules, and advanced conflict dynamics, you can explore a wide range of scenarios in an accessible, Python-based framework."
   ]
  }
 ],
 "metadata": {
  "name": "conflict_model",
  "kernelspec": {
   "display_name": "Python 3",
   "language": "python",
   "name": "python3"
  },
  "language_info": {
   "name": "python",
   "version": "3.7"
  }
 },
 "nbformat": 4,
 "nbformat_minor": 5
}
